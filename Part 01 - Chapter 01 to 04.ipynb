{
 "cells": [
  {
   "cell_type": "markdown",
   "metadata": {},
   "source": [
    "> Tips: 可至 [python tutor](http://pythontutor.com/visualize.html#mode=edit) 察看执行流程"
   ]
  },
  {
   "cell_type": "markdown",
   "metadata": {},
   "source": [
    "### Chapter 01"
   ]
  },
  {
   "cell_type": "markdown",
   "metadata": {},
   "source": [
    "Binary Search\n",
    "- the list should be a ***sorted*** one. (e.g. a~z)\n",
    "- O(log<sub>2</sub>N) "
   ]
  },
  {
   "cell_type": "code",
   "execution_count": 1,
   "metadata": {},
   "outputs": [],
   "source": [
    "def bin_search(_list, item):\n",
    "    \n",
    "    # just indexes\n",
    "    idx_first = 0 \n",
    "    idx_last = len(_list) -1 \n",
    "    \n",
    "    while idx_first <= idx_last:\n",
    "        \n",
    "        # cut into two pieces (CORE)\n",
    "        split_middle = (idx_first + idx_last) // 2 \n",
    "\n",
    "        # value | index \n",
    "        isit_or_not = _list[split_middle]  # the Guess start in here \n",
    "\n",
    "        if isit_or_not == item:  # try-and-try all Test in Here\n",
    "            return split_middle  # got what-u-want? return the index \n",
    "\n",
    "        \n",
    "        # not found => Try here (tighten the boundary)\n",
    "        \n",
    "        if isit_or_not > item:\n",
    "            idx_last = split_middle - 1 \n",
    "        else:\n",
    "            idx_first = split_middle + 1 \n",
    "    \n",
    "    # nothin' found => return the (default) None \n",
    "    # already found => return OR try-and-try-then-return (code above)\n",
    "    return None "
   ]
  },
  {
   "cell_type": "code",
   "execution_count": 2,
   "metadata": {},
   "outputs": [
    {
     "data": {
      "text/plain": [
       "('index:', 4)"
      ]
     },
     "execution_count": 2,
     "metadata": {},
     "output_type": "execute_result"
    }
   ],
   "source": [
    "ml = [1, 3, 4, 6, 8, 9]\n",
    "\n",
    "'index:', bin_search(ml, 8)"
   ]
  },
  {
   "cell_type": "markdown",
   "metadata": {},
   "source": [
    "about big *O*\n",
    "- num of operations, NOT speed \n",
    "- it tells the *worst* case, NOT average or best-case scenario."
   ]
  },
  {
   "cell_type": "markdown",
   "metadata": {},
   "source": [
    "And ..\n",
    "- Algorithm speed isn’t measured in seconds, <br>but in growth of the ***number of operations***."
   ]
  },
  {
   "cell_type": "markdown",
   "metadata": {},
   "source": [
    "some common big O run times \n",
    "- O(log n)\n",
    "- O(n)\n",
    "- O(n * log n)\n",
    "- O(n<sup>2</sup>\n",
    "- O(n!)"
   ]
  },
  {
   "cell_type": "markdown",
   "metadata": {},
   "source": [
    "### Chapter 02"
   ]
  },
  {
   "cell_type": "markdown",
   "metadata": {},
   "source": [
    "arrray\n",
    "- continuous addresses in memory \n",
    "\n",
    "linked lists\n",
    "- one holds the next item's address (still, in memory)\n",
    "\n",
    "comparison \n",
    "\n",
    "| / | Array | List | \n",
    "| :-- | :-- | :-- | \n",
    "| Reading | **O(1)** | **O(n)** | \n",
    "| Inserton | O(n) | O(1) | \n",
    "| Deletion | O(n) | O(1) | \n",
    "\n",
    "in human words \n",
    "- *array* are good for ***random access***\n",
    "- *list* are good for ***insert*** and ***delete***.\n",
    "\n",
    "more about *array*\n",
    "- all elements should be the ***same type***.\n",
    "- each element are ***right next to each other***. "
   ]
  },
  {
   "cell_type": "markdown",
   "metadata": {},
   "source": [
    "Here comes the code!\n",
    "- Down below is the ***Selection Sort*** algorithm.\n",
    "- Its complexity is **O(N<sup>2</sup>)**"
   ]
  },
  {
   "cell_type": "code",
   "execution_count": 3,
   "metadata": {},
   "outputs": [],
   "source": [
    "def find_smallest(arr):\n",
    "    smallest = arr[0]  # item\n",
    "    smallest_idx = 0   # index \n",
    "    \n",
    "    for i in range(1, len(arr)):  # loop all to find the smallest \n",
    "        if arr[i] < smallest:     # cmp 'first' with every item (by idx)\n",
    "            smallest_idx = i      # not found => loop again (and agin)\n",
    "            smallest = arr[i]     # found => return itself / founded-one\n",
    "            \n",
    "    return smallest_idx           # loop lopp => return X\n",
    "\n",
    "def selection_sort(arr):                 # (00) the list came here first\n",
    "    new_arr = []\n",
    "    \n",
    "    for i in range(len(arr)):\n",
    "        smallest = find_smallest(arr)     # pass arg to another func \n",
    "        \n",
    "        new_arr.append(arr.pop(smallest)) # result passed in here\n",
    "        \n",
    "    return new_arr"
   ]
  },
  {
   "cell_type": "code",
   "execution_count": 4,
   "metadata": {},
   "outputs": [
    {
     "data": {
      "text/plain": [
       "[3, 4, 9, 10, 20]"
      ]
     },
     "execution_count": 4,
     "metadata": {},
     "output_type": "execute_result"
    }
   ],
   "source": [
    "selection_sort([4, 10, 9, 3, 20])"
   ]
  },
  {
   "cell_type": "markdown",
   "metadata": {},
   "source": [
    "### Chapter 03"
   ]
  },
  {
   "cell_type": "markdown",
   "metadata": {},
   "source": [
    "We gonna talk about ***Recursion***."
   ]
  },
  {
   "cell_type": "code",
   "execution_count": 5,
   "metadata": {},
   "outputs": [],
   "source": [
    "def countdown(i):\n",
    "    \"\"\" Recursion! \"\"\"\n",
    "    \n",
    "    print(i)  # It'll print unless the i is less than 0.\n",
    "    \n",
    "    if i <= 0:            # if \"i <= 0\" OR \"subtracted to i <= 0\"\n",
    "        return            #   halt at once \n",
    "    \n",
    "    else:                 # Still greater than zero?\n",
    "        countdown(i - 1)  # => run the func again"
   ]
  },
  {
   "cell_type": "code",
   "execution_count": 6,
   "metadata": {},
   "outputs": [
    {
     "name": "stdout",
     "output_type": "stream",
     "text": [
      "3\n",
      "2\n",
      "1\n",
      "0\n"
     ]
    }
   ],
   "source": [
    "countdown(3)"
   ]
  },
  {
   "cell_type": "code",
   "execution_count": 7,
   "metadata": {},
   "outputs": [],
   "source": [
    "def factorial(x):\n",
    "    \n",
    "    if x <= 0:    # hmm\n",
    "        return None\n",
    "    \n",
    "    if x == 1:    # way1  -- what u passed is <=0 or ==1\n",
    "        return 1  # way2  -- or x (sub) reached the boundary (==1, <=0)\n",
    "    \n",
    "    else:                            # for 'return', it only executed once \n",
    "        return x * factorial(x - 1)  # then it go back "
   ]
  },
  {
   "cell_type": "code",
   "execution_count": 8,
   "metadata": {},
   "outputs": [
    {
     "data": {
      "text/plain": [
       "24"
      ]
     },
     "execution_count": 8,
     "metadata": {},
     "output_type": "execute_result"
    }
   ],
   "source": [
    "factorial(-2)\n",
    "factorial(0)\n",
    "\n",
    "factorial(4)"
   ]
  },
  {
   "cell_type": "markdown",
   "metadata": {},
   "source": [
    "Notice\n",
    "- It consumes a lot of memory. Write ***loop*** instead!\n",
    "- You *can* use [**tail recursion**](https://www.quora.com/What-is-tail-recursion-Why-is-it-so-bad), but Python **DO NOT** support it."
   ]
  },
  {
   "cell_type": "markdown",
   "metadata": {},
   "source": [
    "### Chapter 04"
   ]
  },
  {
   "cell_type": "markdown",
   "metadata": {},
   "source": [
    "Divide and Conquer\n",
    "- a *recursive* technique about **Solving Problems**."
   ]
  },
  {
   "cell_type": "markdown",
   "metadata": {},
   "source": [
    "Let's think about a real-world example\n",
    "- *You* are a farmer with **a plot of land**.\n",
    "- *You* wanna **divide** this farm **evenly** into ***square plots***.\n",
    "\n",
    "Like this:\n",
    "\n",
    "![ ](./img/plot_of_land.jpg)\n",
    "\n",
    "Actually, it's a question about ***find the common divisor***. (sort of)"
   ]
  },
  {
   "cell_type": "markdown",
   "metadata": {},
   "source": [
    "Examples: **Get Sum**"
   ]
  },
  {
   "cell_type": "code",
   "execution_count": 9,
   "metadata": {},
   "outputs": [
    {
     "data": {
      "text/plain": [
       "5050"
      ]
     },
     "execution_count": 9,
     "metadata": {},
     "output_type": "execute_result"
    }
   ],
   "source": [
    "def get_sum(arr):\n",
    "    total = 0\n",
    "    \n",
    "    for x in arr:          # cuz using forloop, \n",
    "        total = total + x  # so u can pass 'range' stuff\n",
    "    \n",
    "    return total \n",
    "\n",
    "\n",
    "get_sum(range(1, 101))"
   ]
  },
  {
   "cell_type": "code",
   "execution_count": 10,
   "metadata": {},
   "outputs": [
    {
     "data": {
      "text/plain": [
       "101"
      ]
     },
     "execution_count": 10,
     "metadata": {},
     "output_type": "execute_result"
    }
   ],
   "source": [
    "def get_sum_rec(arr):\n",
    "    \n",
    "    if arr == []:  # when arr was incursively reached boundary \n",
    "        return 0   # I mean, [].\n",
    "    \n",
    "    return arr[0] + get_sum_rec(arr[1:])  # you CANNOT passing iterators :)\n",
    "\n",
    "\n",
    "get_sum_rec([1,100])"
   ]
  },
  {
   "cell_type": "markdown",
   "metadata": {},
   "source": [
    "Examples: **Count Items**"
   ]
  },
  {
   "cell_type": "code",
   "execution_count": 11,
   "metadata": {},
   "outputs": [
    {
     "data": {
      "text/plain": [
       "1"
      ]
     },
     "execution_count": 11,
     "metadata": {},
     "output_type": "execute_result"
    },
    {
     "data": {
      "text/plain": [
       "3"
      ]
     },
     "execution_count": 11,
     "metadata": {},
     "output_type": "execute_result"
    }
   ],
   "source": [
    "def count_rec(_list):\n",
    "    \"\"\" Count how much items in the list (or tuple stuff). \"\"\"\n",
    "    \n",
    "    if _list == []:  # worked just like the example above \n",
    "        return 0  \n",
    "    \n",
    "    return 1 + count_rec(_list[1:])  # start with 1, (again-and-again), end counting\n",
    "\n",
    "\n",
    "count_rec([5])\n",
    "count_rec([3,4,5])"
   ]
  },
  {
   "cell_type": "markdown",
   "metadata": {},
   "source": [
    "Examples: **Find Max**"
   ]
  },
  {
   "cell_type": "code",
   "execution_count": 12,
   "metadata": {},
   "outputs": [
    {
     "data": {
      "text/plain": [
       "10"
      ]
     },
     "execution_count": 12,
     "metadata": {},
     "output_type": "execute_result"
    },
    {
     "data": {
      "text/plain": [
       "100"
      ]
     },
     "execution_count": 12,
     "metadata": {},
     "output_type": "execute_result"
    }
   ],
   "source": [
    "def max_rec(_list):\n",
    "    \"\"\" Implementing it by yourself. \"\"\"\n",
    "    \n",
    "    if len(_list) == 0:  # nothing passed in\n",
    "        return None \n",
    "    \n",
    "    if len(_list) == 1:  # no need to compare any more \n",
    "        return _list[0]  # this line counts till they(↓) got to the last step \n",
    "    else:\n",
    "        sub_max = max_rec(_list[1:])                        # if-false => here (and repeat)\n",
    "        return _list[0] if _list[0] > sub_max else sub_max  # if-true  => return directly\n",
    "    \n",
    "\n",
    "max_rec([])\n",
    "max_rec([10])\n",
    "max_rec([10,20,100])"
   ]
  },
  {
   "cell_type": "markdown",
   "metadata": {},
   "source": [
    "Here comes the ***Quick Sort*** algorithm!\n",
    "- Details are down below the code."
   ]
  },
  {
   "cell_type": "code",
   "execution_count": 13,
   "metadata": {},
   "outputs": [],
   "source": [
    "def quicksort(arr):\n",
    "    \n",
    "    if len(arr) < 2:\n",
    "        return arr  # base case: 0 or 1 element (also other cases)\n",
    "    \n",
    "    else:        \n",
    "        # you can replace it with another val (well.. index)\n",
    "        # note: The speed of 'quick sort' depend on the 'divide' point you choose!! \n",
    "        divide = arr[0]  \n",
    "        \n",
    "        less = [i for i in arr[1:] if i <= divide]        \n",
    "        greater = [i for i in arr[1:] if i > divide]\n",
    "        \n",
    "        # both sides will be \"passed\" in the if-else \n",
    "        #   and the son of each sides \n",
    "        #     and the son of the son of the each sides ...\n",
    "        \"\"\" \n",
    "        let's take an example in here:\n",
    "            [10, 9, 20, 30, 1] => we take the '10' as 'divide'\n",
    "        then \n",
    "            the left  is [9, 1]   (=10)  then 9 as divide  -> left: 0,  right: [] -> ...\n",
    "            the right is [20, 30] (>10)  then 20 as divide -> left: [], right: 30 -> ...\n",
    "        \"\"\"\n",
    "        return quicksort(less) + [divide] + quicksort(greater)"
   ]
  },
  {
   "cell_type": "markdown",
   "metadata": {},
   "source": [
    "Again, let's talk about the Big **O(N)**\n",
    "- for *Quick Sort* algorithm\n",
    "    - worst case: O(n<sup>2</sup>)\n",
    "    - best case: O(n log n)  (it's also *average case*!!)"
   ]
  },
  {
   "cell_type": "code",
   "execution_count": 14,
   "metadata": {},
   "outputs": [
    {
     "data": {
      "text/plain": [
       "[]"
      ]
     },
     "execution_count": 14,
     "metadata": {},
     "output_type": "execute_result"
    },
    {
     "data": {
      "text/plain": [
       "[1]"
      ]
     },
     "execution_count": 14,
     "metadata": {},
     "output_type": "execute_result"
    },
    {
     "data": {
      "text/plain": [
       "[1, 3, 9, 10, 20]"
      ]
     },
     "execution_count": 14,
     "metadata": {},
     "output_type": "execute_result"
    }
   ],
   "source": [
    "quicksort([])\n",
    "quicksort([1])\n",
    "\n",
    "quicksort([10,9,20,3,1])"
   ]
  }
 ],
 "metadata": {
  "kernelspec": {
   "display_name": "Python 3",
   "language": "python",
   "name": "python3"
  },
  "language_info": {
   "codemirror_mode": {
    "name": "ipython",
    "version": 3
   },
   "file_extension": ".py",
   "mimetype": "text/x-python",
   "name": "python",
   "nbconvert_exporter": "python",
   "pygments_lexer": "ipython3",
   "version": "3.6.5"
  }
 },
 "nbformat": 4,
 "nbformat_minor": 2
}
