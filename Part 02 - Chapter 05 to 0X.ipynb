{
 "cells": [
  {
   "cell_type": "markdown",
   "metadata": {},
   "source": [
    "> Again, you can access [py tutor](http://pythontutor.com/visualize.html#mode=edit) to inspect the details of how algorithm works."
   ]
  },
  {
   "cell_type": "markdown",
   "metadata": {},
   "source": [
    "### Chapter 05"
   ]
  },
  {
   "cell_type": "markdown",
   "metadata": {},
   "source": [
    "Let's talk about *Hash Table*.\n",
    "- O(1) for access.\n",
    "- Other names: [*hash-map*, *map*, *dict*, *associative array*].\n",
    "\n",
    "O for read/insert/delete\n",
    "- For best: all O(1)\n",
    "- For worst: all O(N)"
   ]
  },
  {
   "cell_type": "code",
   "execution_count": 55,
   "metadata": {},
   "outputs": [
    {
     "data": {
      "text/plain": [
       "{'Stat': 'ThinkStats', 'Crypto': 'Crypto 101', 'Reciple': 'Py Cookbook'}"
      ]
     },
     "execution_count": 55,
     "metadata": {},
     "output_type": "execute_result"
    }
   ],
   "source": [
    "book = dict()\n",
    "\n",
    "book['Stat']    = 'ThinkStats'\n",
    "book['Crypto']  = 'Crypto 101'\n",
    "book['Reciple'] = 'Py Cookbook'\n",
    "\n",
    "book"
   ]
  },
  {
   "cell_type": "code",
   "execution_count": 56,
   "metadata": {},
   "outputs": [
    {
     "name": "stdout",
     "output_type": "stream",
     "text": [
      "Let'em vote!\n",
      "Let'em vote!\n",
      "Nope. Leave!\n"
     ]
    },
    {
     "data": {
      "text/plain": [
       "{'Tom': True, 'Alice': True}"
      ]
     },
     "execution_count": 56,
     "metadata": {},
     "output_type": "execute_result"
    }
   ],
   "source": [
    "# voting \n",
    "\n",
    "voted = dict()\n",
    "\n",
    "def check_voter(name):\n",
    "    if voted.get(name):        # got nothin' => False for 'if'\n",
    "        print(\"Nope. Leave!\")  \n",
    "    else:\n",
    "        voted[name] = True     # add'em to dict :)\n",
    "        print(\"Let'em vote!\")\n",
    "        \n",
    "\n",
    "check_voter('Tom')\n",
    "check_voter('Alice')\n",
    "check_voter('Alice')\n",
    "\n",
    "voted"
   ]
  },
  {
   "cell_type": "markdown",
   "metadata": {},
   "source": [
    "### Chapter 06"
   ]
  },
  {
   "cell_type": "markdown",
   "metadata": {},
   "source": [
    "Let's talk about *Graph*.\n",
    "- Then write our first algorithm: *Breadth-first Search*.\n",
    "- Or we can say like this: \"Find the shortest path to XXX\"."
   ]
  },
  {
   "cell_type": "markdown",
   "metadata": {},
   "source": [
    "What are these terms?\n",
    "- The names are ***Node***.\n",
    "- The lines are ***Edge***.\n",
    "- ...\n",
    "\n",
    "<img src=\"./img/example_of_graph.jpg\" width=350 height=100>\n",
    "\n",
    "There're two common questions:\n",
    "- Is there a path from *Node A* to *Node B*?\n",
    "- What is the ***shortest path*** from *Node A* to *Node B*?"
   ]
  },
  {
   "cell_type": "markdown",
   "metadata": {},
   "source": [
    "Two more terms:\n",
    "- *FIFO*: First In, First Out.\n",
    "- *LIFO*: Last In, First Out."
   ]
  },
  {
   "cell_type": "markdown",
   "metadata": {},
   "source": [
    "Here're the code example:\n",
    "> Well, suppose we need to find a *book seller* among our friends."
   ]
  },
  {
   "cell_type": "code",
   "execution_count": 57,
   "metadata": {},
   "outputs": [],
   "source": [
    "from collections import deque \n",
    "\n",
    "graph = {}\n",
    "\n",
    "graph['you']    = ['alice', 'bob', 'claire']\n",
    "\n",
    "graph['alice']  = ['peggy']\n",
    "graph['bob']    = ['anuj', 'peggy']\n",
    "graph['claire'] = ['thom', 'jonny']\n",
    "\n",
    "graph['anuj']   = []\n",
    "graph['peggy']  = []\n",
    "graph['thom']   = []\n",
    "graph['jonny']  = []"
   ]
  },
  {
   "cell_type": "markdown",
   "metadata": {},
   "source": [
    "<img src=\"./img/example_of_graph_02.jpg\" width=350 height=100>"
   ]
  },
  {
   "cell_type": "code",
   "execution_count": 58,
   "metadata": {},
   "outputs": [],
   "source": [
    "def person_is_seller(name): # you can specify your own :)\n",
    "    return name[-1] == 'm'  # last alphabet of the name ('Thom')\n",
    "\n",
    "\n",
    "def search(name):\n",
    "    \n",
    "    search_queue =  deque()\n",
    "    search_queue += graph[name]\n",
    "    \n",
    "    searched = []  # store the people was searched before \n",
    "    \n",
    "    while search_queue:\n",
    "        \n",
    "        person = search_queue.popleft()\n",
    "        \n",
    "        if person not in searched:                  # in case we search the same person (infinite-loop!)\n",
    "               \n",
    "            if person_is_seller(person):\n",
    "                print(person, \"is a book seller!\")  \n",
    "                return True \n",
    "            else:\n",
    "                search_queue += graph[person]\n",
    "                searched.append(person)             # mark whom was searched before \n",
    "    \n",
    "    return False"
   ]
  },
  {
   "cell_type": "code",
   "execution_count": 59,
   "metadata": {},
   "outputs": [
    {
     "name": "stdout",
     "output_type": "stream",
     "text": [
      "thom is a book seller!\n"
     ]
    },
    {
     "data": {
      "text/plain": [
       "True"
      ]
     },
     "execution_count": 59,
     "metadata": {},
     "output_type": "execute_result"
    }
   ],
   "source": [
    "search('you')  # 0729-Todo: Add details "
   ]
  },
  {
   "cell_type": "markdown",
   "metadata": {},
   "source": [
    "### Chapter 07 "
   ]
  },
  {
   "cell_type": "markdown",
   "metadata": {},
   "source": [
    "Let's talk about *Dijkstra's algorithm*."
   ]
  },
  {
   "cell_type": "markdown",
   "metadata": {},
   "source": [
    "The *Graph* we talked about before: \n",
    "- **Only** care about the ***least number of segments***.\n",
    "- It's the **shortest** path, but may not the **fastest** path.\n",
    "\n",
    "Let's add some **weight** to the *Graph*'s **Edge**.\n",
    "> Well, the '*amount of time*' 🙂.\n",
    "\n",
    "<img src=\"./img/weight_of_graph.jpg\" width=350 height=100>"
   ]
  },
  {
   "cell_type": "markdown",
   "metadata": {},
   "source": [
    "Here's the code (and the *graph*)!\n",
    "\n",
    "<img src=\"./img/weight_of_graph_02.jpg\" width=200 height=100>"
   ]
  },
  {
   "cell_type": "code",
   "execution_count": 60,
   "metadata": {},
   "outputs": [
    {
     "data": {
      "text/plain": [
       "' The Graph '"
      ]
     },
     "execution_count": 60,
     "metadata": {},
     "output_type": "execute_result"
    },
    {
     "data": {
      "text/plain": [
       "' the costs table '"
      ]
     },
     "execution_count": 60,
     "metadata": {},
     "output_type": "execute_result"
    },
    {
     "data": {
      "text/plain": [
       "' the parents table '"
      ]
     },
     "execution_count": 60,
     "metadata": {},
     "output_type": "execute_result"
    }
   ],
   "source": [
    "# Hey, just a reminder:\n",
    "#   the 'cost(s)' we mentioned is the 'time we spent' (not money!)\n",
    "\n",
    "''' The Graph '''\n",
    "\n",
    "graph = {}\n",
    "\n",
    "graph['start'] = {}\n",
    "graph['start']['A'] = 6\n",
    "graph['start']['B'] = 2 \n",
    "\n",
    "graph['A'] = {}\n",
    "graph['A']['end'] = 1 \n",
    "\n",
    "graph['B'] = {}\n",
    "graph['B']['A'] = 3 \n",
    "graph['B']['end'] = 5 \n",
    "\n",
    "graph['end'] = {}\n",
    "\n",
    "''' the costs table '''\n",
    "\n",
    "infinity = float('inf')\n",
    "costs = {}\n",
    "costs['A'] = 6\n",
    "costs['B'] = 2 \n",
    "costs['end'] = infinity\n",
    "\n",
    "''' the parents table ''' \n",
    "\n",
    "parents = {}\n",
    "parents['A'] = 'start'\n",
    "parents['B'] = 'start'\n",
    "parents['end'] = None "
   ]
  },
  {
   "cell_type": "code",
   "execution_count": 61,
   "metadata": {},
   "outputs": [],
   "source": [
    "processed = []\n",
    "\n",
    "def find_lowest_cost_node(costs):\n",
    "    lowest_cost      = float('inf')\n",
    "    lowest_cost_node = None \n",
    "    \n",
    "    for node in costs:\n",
    "        cost = costs[node]\n",
    "        \n",
    "        if cost < lowest_cost and node not in processed:\n",
    "            lowest_cost      = cost \n",
    "            lowest_cost_node = node \n",
    "    \n",
    "    return lowest_cost_node"
   ]
  },
  {
   "cell_type": "code",
   "execution_count": 62,
   "metadata": {},
   "outputs": [],
   "source": [
    "node = find_lowest_cost_node(costs)\n",
    "\n",
    "while node is not None:\n",
    "    \n",
    "    cost      = costs[node]\n",
    "    neighbors = graph[node]\n",
    "    \n",
    "    for n in neighbors.keys():\n",
    "        new_cost = cost + neighbors[n]\n",
    "        \n",
    "        if costs[n] > new_cost:\n",
    "            \n",
    "            costs[n]   = new_cost\n",
    "            parents[n] = node \n",
    "    \n",
    "    processed.append(node)\n",
    "    \n",
    "    node = find_lowest_cost_node(costs)"
   ]
  },
  {
   "cell_type": "markdown",
   "metadata": {},
   "source": [
    "Let me show it again 🙃\n",
    "\n",
    "<img src=\"./img/weight_of_graph_02.jpg\" width=200 height=100>\n",
    "\n",
    "*One* more thing:\n",
    "- I strongly recommended to watch the [viz](http://pythontutor.com/visualize.html#mode=display) (procedures).\n",
    "- TODO: *add more details*."
   ]
  },
  {
   "cell_type": "code",
   "execution_count": 63,
   "metadata": {},
   "outputs": [
    {
     "data": {
      "text/plain": [
       "{'A': 5, 'B': 2, 'end': 6}"
      ]
     },
     "execution_count": 63,
     "metadata": {},
     "output_type": "execute_result"
    }
   ],
   "source": [
    "# these're all the shortest cases\n",
    "#   start -> A \n",
    "#   start -> B \n",
    "#   start -> (blabla) -> finish (end)\n",
    "costs  "
   ]
  },
  {
   "cell_type": "markdown",
   "metadata": {},
   "source": [
    "### Chapter 08"
   ]
  },
  {
   "cell_type": "markdown",
   "metadata": {},
   "source": [
    "Let's talk about *Greedy Algorithm*.\n",
    "- And *NP-Complete* (well, I didn't take notes of this)."
   ]
  },
  {
   "cell_type": "markdown",
   "metadata": {},
   "source": [
    "Here's an \"real world\" example:\n",
    "- You are starting a radio show.\n",
    "- You wanna reach listeners in all 50 <del>(U.S.)</del> states. \n",
    "\n",
    "And\n",
    "- You have to decide ***what stations to play on***. \n",
    "- You wanna cost less money (***minimize the number of stations***).\n",
    "- Each station covers a region, and there's **overlap**!"
   ]
  },
  {
   "cell_type": "code",
   "execution_count": 64,
   "metadata": {},
   "outputs": [],
   "source": [
    "# here's the list of abbreviations:\n",
    "#   https://simple.wikipedia.org/wiki/List_of_U.S._states\n",
    "\n",
    "# well, I've changed it to the provinces of Chinese (sorry).\n",
    "\n",
    "states_needed = set([\n",
    "    'BeiJing', 'JiangSu',  'ShangHai',  'SiChuan', \n",
    "    'NanJing', 'XinJiang', 'ChongQing', 'ShenYang',\n",
    "])\n",
    "\n",
    "stations = {}\n",
    "\n",
    "stations['k_one']   = set(['SiChuan',   'NanJing',  'XinJiang'])\n",
    "stations['k_two']   = set(['JiangSu',   'SiChuan',  'BeiJing'])\n",
    "stations['k_three'] = set(['ShangHai',  'NanJing',  'ChongQing'])\n",
    "stations['k_four']  = set(['NanJing',   'XinJiang']) \n",
    "stations['k_five']  = set(['ChongQing', 'ShenYang'])"
   ]
  },
  {
   "cell_type": "code",
   "execution_count": 65,
   "metadata": {},
   "outputs": [],
   "source": [
    "final_stations = set()\n",
    "\n",
    "\n",
    "while states_needed:\n",
    "    \n",
    "    best_stations  = None \n",
    "    states_covered = set()\n",
    "    \n",
    "    for station, states in stations.items():\n",
    "        \n",
    "        covered = states_needed & states  # = intersection (both have)\n",
    "        \n",
    "        if len(covered) > len(states_covered):\n",
    "            \n",
    "            best_station   = station \n",
    "            states_covered = covered\n",
    "    \n",
    "    states_needed = states_needed - states_covered \n",
    "    final_stations.add(best_station)"
   ]
  },
  {
   "cell_type": "code",
   "execution_count": 66,
   "metadata": {},
   "outputs": [
    {
     "data": {
      "text/plain": [
       "{'k_five', 'k_one', 'k_three', 'k_two'}"
      ]
     },
     "execution_count": 66,
     "metadata": {},
     "output_type": "execute_result"
    }
   ],
   "source": [
    "final_stations"
   ]
  },
  {
   "cell_type": "markdown",
   "metadata": {},
   "source": [
    "### Chapter 09"
   ]
  },
  {
   "cell_type": "markdown",
   "metadata": {},
   "source": [
    "Let's talk about *Dynamic Programming*."
   ]
  },
  {
   "cell_type": "markdown",
   "metadata": {},
   "source": [
    "It's a technique to solve problem \n",
    "- by **breaking it up** into several problems\n",
    "- and solving those **subproblems first**."
   ]
  },
  {
   "cell_type": "markdown",
   "metadata": {},
   "source": [
    "此部分將以別的教程學習, 此處的例子不再實踐.<br>(Learn by the other tutorials, not showin here.)\n",
    "- Here's the tutorial: [Dynamic Programming Made Easy\n",
    "](https://nbviewer.jupyter.org/github/younlonglin/Top-Ten-Algorithms/blob/master/dp_made_easy.ipynb)"
   ]
  },
  {
   "cell_type": "markdown",
   "metadata": {},
   "source": [
    "### Chapter 10"
   ]
  },
  {
   "cell_type": "code",
   "execution_count": null,
   "metadata": {},
   "outputs": [],
   "source": []
  }
 ],
 "metadata": {
  "kernelspec": {
   "display_name": "Python 3",
   "language": "python",
   "name": "python3"
  },
  "language_info": {
   "codemirror_mode": {
    "name": "ipython",
    "version": 3
   },
   "file_extension": ".py",
   "mimetype": "text/x-python",
   "name": "python",
   "nbconvert_exporter": "python",
   "pygments_lexer": "ipython3",
   "version": "3.6.5"
  }
 },
 "nbformat": 4,
 "nbformat_minor": 2
}
