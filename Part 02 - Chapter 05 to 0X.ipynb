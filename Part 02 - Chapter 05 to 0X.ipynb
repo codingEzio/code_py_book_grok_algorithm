{
 "cells": [
  {
   "cell_type": "markdown",
   "metadata": {},
   "source": [
    "> Again, you can access [py tutor](http://pythontutor.com/visualize.html#mode=edit) to inspect the details of how algorithm works."
   ]
  },
  {
   "cell_type": "markdown",
   "metadata": {},
   "source": [
    "### Chapter 05"
   ]
  },
  {
   "cell_type": "markdown",
   "metadata": {},
   "source": [
    "Let's talk about *Hash Table*.\n",
    "- O(1) for access.\n",
    "- Other names: [*hash-map*, *map*, *dict*, *associative array*].\n",
    "\n",
    "O for read/insert/delete\n",
    "- For best: all O(1)\n",
    "- For worst: all O(N)"
   ]
  },
  {
   "cell_type": "code",
   "execution_count": 16,
   "metadata": {},
   "outputs": [
    {
     "data": {
      "text/plain": [
       "{'Stat': 'ThinkStats', 'Crypto': 'Crypto 101', 'Reciple': 'Py Cookbook'}"
      ]
     },
     "execution_count": 16,
     "metadata": {},
     "output_type": "execute_result"
    }
   ],
   "source": [
    "book = dict()\n",
    "\n",
    "book['Stat']    = 'ThinkStats'\n",
    "book['Crypto']  = 'Crypto 101'\n",
    "book['Reciple'] = 'Py Cookbook'\n",
    "\n",
    "book"
   ]
  },
  {
   "cell_type": "code",
   "execution_count": 17,
   "metadata": {},
   "outputs": [
    {
     "name": "stdout",
     "output_type": "stream",
     "text": [
      "Let'em vote!\n",
      "Let'em vote!\n",
      "Nope. Leave!\n"
     ]
    },
    {
     "data": {
      "text/plain": [
       "{'Tom': True, 'Alice': True}"
      ]
     },
     "execution_count": 17,
     "metadata": {},
     "output_type": "execute_result"
    }
   ],
   "source": [
    "# voting \n",
    "\n",
    "voted = dict()\n",
    "\n",
    "def check_voter(name):\n",
    "    if voted.get(name):        # got nothin' => False for 'if'\n",
    "        print(\"Nope. Leave!\")  \n",
    "    else:\n",
    "        voted[name] = True     # add'em to dict :)\n",
    "        print(\"Let'em vote!\")\n",
    "        \n",
    "\n",
    "check_voter('Tom')\n",
    "check_voter('Alice')\n",
    "check_voter('Alice')\n",
    "\n",
    "voted"
   ]
  },
  {
   "cell_type": "markdown",
   "metadata": {},
   "source": [
    "### Chapter 06"
   ]
  },
  {
   "cell_type": "markdown",
   "metadata": {},
   "source": [
    "Let's talk about *Graph*.\n",
    "- Then write our first algorithm: *Breadth-first Search*.\n",
    "- Or we can say like this: \"Find the shortest path to XXX\"."
   ]
  },
  {
   "cell_type": "markdown",
   "metadata": {},
   "source": [
    "What are these terms?\n",
    "- The names are ***Node***.\n",
    "- The lines are ***Edge***.\n",
    "- ...\n",
    "\n",
    "<img src=\"./img/example_of_graph.jpg\" width=350 height=100>\n",
    "\n",
    "There're two common questions:\n",
    "- Is there a path from *Node A* to *Node B*?\n",
    "- What is the ***shortest path*** from *Node A* to *Node B*?"
   ]
  },
  {
   "cell_type": "markdown",
   "metadata": {},
   "source": [
    "Two more terms:\n",
    "- *FIFO*: First In, First Out.\n",
    "- *LIFO*: Last In, First Out."
   ]
  },
  {
   "cell_type": "markdown",
   "metadata": {},
   "source": [
    "Here're the code example:\n",
    "> Well, suppose we need to find a *book seller* among our friends."
   ]
  },
  {
   "cell_type": "code",
   "execution_count": 23,
   "metadata": {},
   "outputs": [],
   "source": [
    "from collections import deque \n",
    "\n",
    "graph = {}\n",
    "\n",
    "graph['you']    = ['alice', 'bob', 'claire']\n",
    "\n",
    "graph['alice']  = ['peggy']\n",
    "graph['bob']    = ['anuj', 'peggy']\n",
    "graph['claire'] = ['thom', 'jonny']\n",
    "\n",
    "graph['anuj']   = []\n",
    "graph['peggy']  = []\n",
    "graph['thom']   = []\n",
    "graph['jonny']  = []"
   ]
  },
  {
   "cell_type": "markdown",
   "metadata": {},
   "source": [
    "<img src=\"./img/example_of_graph_02.jpg\" width=350 height=100>"
   ]
  },
  {
   "cell_type": "code",
   "execution_count": 36,
   "metadata": {},
   "outputs": [],
   "source": [
    "def person_is_seller(name): # you can specify your own :)\n",
    "    return name[-1] == 'm'  # last alphabet of the name ('Thom')\n",
    "\n",
    "\n",
    "def search(name):\n",
    "    \n",
    "    search_queue =  deque()\n",
    "    search_queue += graph[name]\n",
    "    \n",
    "    searched = []\n",
    "    \n",
    "    while search_queue:\n",
    "        \n",
    "        person = search_queue.popleft()\n",
    "        \n",
    "        if person not in searched:\n",
    "            \n",
    "            if person_is_seller(person):\n",
    "                print(person, \"is a book seller!\")\n",
    "                return True \n",
    "            else:\n",
    "                search_queue += graph[person]\n",
    "                searched.append(person)\n",
    "    \n",
    "    return False"
   ]
  },
  {
   "cell_type": "code",
   "execution_count": 38,
   "metadata": {},
   "outputs": [
    {
     "name": "stdout",
     "output_type": "stream",
     "text": [
      "thom is a book seller!\n"
     ]
    },
    {
     "data": {
      "text/plain": [
       "True"
      ]
     },
     "execution_count": 38,
     "metadata": {},
     "output_type": "execute_result"
    }
   ],
   "source": [
    "search('you')  # 0729-Todo: Add details "
   ]
  },
  {
   "cell_type": "markdown",
   "metadata": {},
   "source": [
    "### Chapter 07 (**Not yet**)"
   ]
  },
  {
   "cell_type": "markdown",
   "metadata": {},
   "source": [
    "Let's talk about *Dijkstra's algorithm*.\n",
    "- 0"
   ]
  }
 ],
 "metadata": {
  "kernelspec": {
   "display_name": "Python 3",
   "language": "python",
   "name": "python3"
  },
  "language_info": {
   "codemirror_mode": {
    "name": "ipython",
    "version": 3
   },
   "file_extension": ".py",
   "mimetype": "text/x-python",
   "name": "python",
   "nbconvert_exporter": "python",
   "pygments_lexer": "ipython3",
   "version": "3.6.5"
  }
 },
 "nbformat": 4,
 "nbformat_minor": 2
}
