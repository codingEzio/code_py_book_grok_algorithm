{
 "cells": [
  {
   "cell_type": "markdown",
   "metadata": {},
   "source": [
    "> Again, you can access [py tutor](http://pythontutor.com/visualize.html#mode=edit) to inspect the details of how algorithm works."
   ]
  },
  {
   "cell_type": "markdown",
   "metadata": {},
   "source": [
    "### Chapter 05"
   ]
  },
  {
   "cell_type": "markdown",
   "metadata": {},
   "source": [
    "Let's talk about *Hash Table*.\n",
    "- O(1) for access.\n",
    "- Other names: [*hash-map*, *map*, *dict*, *associative array*].\n",
    "\n",
    "O for read/insert/delete\n",
    "- For best: all O(1)\n",
    "- For worst: all O(N)"
   ]
  },
  {
   "cell_type": "code",
   "execution_count": 55,
   "metadata": {},
   "outputs": [
    {
     "data": {
      "text/plain": [
       "{'Stat': 'ThinkStats', 'Crypto': 'Crypto 101', 'Reciple': 'Py Cookbook'}"
      ]
     },
     "execution_count": 55,
     "metadata": {},
     "output_type": "execute_result"
    }
   ],
   "source": [
    "book = dict()\n",
    "\n",
    "book['Stat']    = 'ThinkStats'\n",
    "book['Crypto']  = 'Crypto 101'\n",
    "book['Reciple'] = 'Py Cookbook'\n",
    "\n",
    "book"
   ]
  },
  {
   "cell_type": "code",
   "execution_count": 56,
   "metadata": {},
   "outputs": [
    {
     "name": "stdout",
     "output_type": "stream",
     "text": [
      "Let'em vote!\n",
      "Let'em vote!\n",
      "Nope. Leave!\n"
     ]
    },
    {
     "data": {
      "text/plain": [
       "{'Tom': True, 'Alice': True}"
      ]
     },
     "execution_count": 56,
     "metadata": {},
     "output_type": "execute_result"
    }
   ],
   "source": [
    "# voting \n",
    "\n",
    "voted = dict()\n",
    "\n",
    "def check_voter(name):\n",
    "    if voted.get(name):        # got nothin' => False for 'if'\n",
    "        print(\"Nope. Leave!\")  \n",
    "    else:\n",
    "        voted[name] = True     # add'em to dict :)\n",
    "        print(\"Let'em vote!\")\n",
    "        \n",
    "\n",
    "check_voter('Tom')\n",
    "check_voter('Alice')\n",
    "check_voter('Alice')\n",
    "\n",
    "voted"
   ]
  },
  {
   "cell_type": "markdown",
   "metadata": {},
   "source": [
    "### Chapter 06"
   ]
  },
  {
   "cell_type": "markdown",
   "metadata": {},
   "source": [
    "Let's talk about *Graph*.\n",
    "- Then write our first algorithm: *Breadth-first Search*.\n",
    "- Or we can say like this: \"Find the shortest path to XXX\"."
   ]
  },
  {
   "cell_type": "markdown",
   "metadata": {},
   "source": [
    "What are these terms?\n",
    "- The names are ***Node***.\n",
    "- The lines are ***Edge***.\n",
    "- ...\n",
    "\n",
    "![01](./img/example_of_graph.jpg)\n",
    "\n",
    "There're two common questions:\n",
    "- Is there a path from *Node A* to *Node B*?\n",
    "- What is the ***shortest path*** from *Node A* to *Node B*?"
   ]
  },
  {
   "cell_type": "markdown",
   "metadata": {},
   "source": [
    "Two more terms:\n",
    "- *FIFO*: First In, First Out.\n",
    "- *LIFO*: Last In, First Out."
   ]
  },
  {
   "cell_type": "markdown",
   "metadata": {},
   "source": [
    "Here're the code example:\n",
    "> Well, suppose we need to find a *book seller* among our friends."
   ]
  },
  {
   "cell_type": "code",
   "execution_count": 57,
   "metadata": {},
   "outputs": [],
   "source": [
    "from collections import deque \n",
    "\n",
    "graph = {}\n",
    "\n",
    "graph['you']    = ['alice', 'bob', 'claire']\n",
    "\n",
    "graph['alice']  = ['peggy']\n",
    "graph['bob']    = ['anuj', 'peggy']\n",
    "graph['claire'] = ['thom', 'jonny']\n",
    "\n",
    "graph['anuj']   = []\n",
    "graph['peggy']  = []\n",
    "graph['thom']   = []\n",
    "graph['jonny']  = []"
   ]
  },
  {
   "cell_type": "markdown",
   "metadata": {},
   "source": [
    "![02](./img/example_of_graph_02.jpg)"
   ]
  },
  {
   "cell_type": "code",
   "execution_count": 58,
   "metadata": {},
   "outputs": [],
   "source": [
    "def person_is_seller(name): # you can specify your own :)\n",
    "    return name[-1] == 'm'  # last alphabet of the name ('Thom')\n",
    "\n",
    "\n",
    "def search(name):\n",
    "    \n",
    "    search_queue =  deque()\n",
    "    search_queue += graph[name]\n",
    "    \n",
    "    searched = []  # store the people was searched before \n",
    "    \n",
    "    while search_queue:\n",
    "        \n",
    "        person = search_queue.popleft()\n",
    "        \n",
    "        if person not in searched:                  # in case we search the same person (infinite-loop!)\n",
    "               \n",
    "            if person_is_seller(person):\n",
    "                print(person, \"is a book seller!\")  \n",
    "                return True \n",
    "            else:\n",
    "                search_queue += graph[person]\n",
    "                searched.append(person)             # mark whom was searched before \n",
    "    \n",
    "    return False"
   ]
  },
  {
   "cell_type": "code",
   "execution_count": 59,
   "metadata": {},
   "outputs": [
    {
     "name": "stdout",
     "output_type": "stream",
     "text": [
      "thom is a book seller!\n"
     ]
    },
    {
     "data": {
      "text/plain": [
       "True"
      ]
     },
     "execution_count": 59,
     "metadata": {},
     "output_type": "execute_result"
    }
   ],
   "source": [
    "search('you')  # 0729-Todo: Add details "
   ]
  },
  {
   "cell_type": "markdown",
   "metadata": {},
   "source": [
    "### Chapter 07 "
   ]
  },
  {
   "cell_type": "markdown",
   "metadata": {},
   "source": [
    "Let's talk about *Dijkstra's algorithm*."
   ]
  },
  {
   "cell_type": "markdown",
   "metadata": {},
   "source": [
    "The *Graph* we talked about before: \n",
    "- **Only** care about the ***least number of segments***.\n",
    "- It's the **shortest** path, but may not the **fastest** path.\n",
    "\n",
    "Let's add some **weight** to the *Graph*'s **Edge**.\n",
    "> Well, the '*amount of time*' 🙂.\n",
    "\n",
    "![03](./img/weight_of_graph.jpg)"
   ]
  },
  {
   "cell_type": "markdown",
   "metadata": {},
   "source": [
    "Here's the code (and the *graph*)!\n",
    "\n",
    "![04](./img/weight_of_graph_02.jpg)"
   ]
  },
  {
   "cell_type": "code",
   "execution_count": 60,
   "metadata": {},
   "outputs": [
    {
     "data": {
      "text/plain": [
       "' The Graph '"
      ]
     },
     "execution_count": 60,
     "metadata": {},
     "output_type": "execute_result"
    },
    {
     "data": {
      "text/plain": [
       "' the costs table '"
      ]
     },
     "execution_count": 60,
     "metadata": {},
     "output_type": "execute_result"
    },
    {
     "data": {
      "text/plain": [
       "' the parents table '"
      ]
     },
     "execution_count": 60,
     "metadata": {},
     "output_type": "execute_result"
    }
   ],
   "source": [
    "# Hey, just a reminder:\n",
    "#   the 'cost(s)' we mentioned is the 'time we spent' (not money!)\n",
    "\n",
    "''' The Graph '''\n",
    "\n",
    "graph = {}\n",
    "\n",
    "graph['start'] = {}\n",
    "graph['start']['A'] = 6\n",
    "graph['start']['B'] = 2 \n",
    "\n",
    "graph['A'] = {}\n",
    "graph['A']['end'] = 1 \n",
    "\n",
    "graph['B'] = {}\n",
    "graph['B']['A'] = 3 \n",
    "graph['B']['end'] = 5 \n",
    "\n",
    "graph['end'] = {}\n",
    "\n",
    "\n",
    "''' the costs table '''\n",
    "\n",
    "infinity = float('inf')\n",
    "costs = {}\n",
    "costs['A'] = 6\n",
    "costs['B'] = 2 \n",
    "costs['end'] = infinity\n",
    "\n",
    "\n",
    "''' the parents table ''' \n",
    "\n",
    "parents = {}\n",
    "parents['A'] = 'start'\n",
    "parents['B'] = 'start'\n",
    "parents['end'] = None "
   ]
  },
  {
   "cell_type": "code",
   "execution_count": 61,
   "metadata": {},
   "outputs": [],
   "source": [
    "processed = []\n",
    "\n",
    "def find_lowest_cost_node(costs):\n",
    "    lowest_cost      = float('inf')\n",
    "    lowest_cost_node = None \n",
    "    \n",
    "    for node in costs:\n",
    "        cost = costs[node]\n",
    "        \n",
    "        if cost < lowest_cost and node not in processed:\n",
    "            lowest_cost      = cost \n",
    "            lowest_cost_node = node \n",
    "    \n",
    "    return lowest_cost_node"
   ]
  },
  {
   "cell_type": "code",
   "execution_count": 62,
   "metadata": {},
   "outputs": [],
   "source": [
    "node = find_lowest_cost_node(costs)\n",
    "\n",
    "while node is not None:\n",
    "    \n",
    "    cost      = costs[node]\n",
    "    neighbors = graph[node]\n",
    "    \n",
    "    for n in neighbors.keys():\n",
    "        new_cost = cost + neighbors[n]\n",
    "        \n",
    "        if costs[n] > new_cost:\n",
    "            \n",
    "            costs[n]   = new_cost\n",
    "            parents[n] = node \n",
    "    \n",
    "    processed.append(node)\n",
    "    \n",
    "    node = find_lowest_cost_node(costs)"
   ]
  },
  {
   "cell_type": "markdown",
   "metadata": {},
   "source": [
    "Let me show it again 🙃\n",
    "\n",
    "![05](./img/weight_of_graph_02.jpg)\n",
    "\n",
    "*One* more thing:\n",
    "- I strongly recommended to watch the [viz](http://pythontutor.com/visualize.html#mode=display) (procedures).\n",
    "- TODO: *add more details*."
   ]
  },
  {
   "cell_type": "code",
   "execution_count": 63,
   "metadata": {},
   "outputs": [
    {
     "data": {
      "text/plain": [
       "{'A': 5, 'B': 2, 'end': 6}"
      ]
     },
     "execution_count": 63,
     "metadata": {},
     "output_type": "execute_result"
    }
   ],
   "source": [
    "# these're all the shortest cases\n",
    "#   start -> A \n",
    "#   start -> B \n",
    "#   start -> (blabla) -> finish (end)\n",
    "costs  "
   ]
  },
  {
   "cell_type": "markdown",
   "metadata": {},
   "source": [
    "### Chapter 08"
   ]
  },
  {
   "cell_type": "markdown",
   "metadata": {},
   "source": [
    "Let's talk about *Greedy Algorithm*.\n",
    "- And *NP-Complete* (no notes for it XD)."
   ]
  },
  {
   "cell_type": "markdown",
   "metadata": {},
   "source": [
    "Here's an \"real world\" example:\n",
    "- You are starting a radio show.\n",
    "- You wanna reach listeners in all 50 <del>(U.S.)</del> states. \n",
    "\n",
    "And\n",
    "- You have to decide ***what stations to play on***. \n",
    "- You wanna cost less money (***minimize the number of stations***).\n",
    "- Each station covers a region, and there's **overlap**!"
   ]
  },
  {
   "cell_type": "code",
   "execution_count": 64,
   "metadata": {},
   "outputs": [],
   "source": [
    "# here's the list of abbreviations:\n",
    "#   https://simple.wikipedia.org/wiki/List_of_U.S._states\n",
    "\n",
    "# well, I've changed it to the provinces of Chinese (sorry).\n",
    "\n",
    "states_needed = set([\n",
    "    'BeiJing', 'JiangSu',  'ShangHai',  'SiChuan', \n",
    "    'NanJing', 'XinJiang', 'ChongQing', 'ShenYang',\n",
    "])\n",
    "\n",
    "stations = {}\n",
    "\n",
    "stations['k_one']   = set(['SiChuan',   'NanJing',  'XinJiang'])\n",
    "stations['k_two']   = set(['JiangSu',   'SiChuan',  'BeiJing'])\n",
    "stations['k_three'] = set(['ShangHai',  'NanJing',  'ChongQing'])\n",
    "stations['k_four']  = set(['NanJing',   'XinJiang']) \n",
    "stations['k_five']  = set(['ChongQing', 'ShenYang'])"
   ]
  },
  {
   "cell_type": "code",
   "execution_count": 65,
   "metadata": {},
   "outputs": [],
   "source": [
    "final_stations = set()\n",
    "\n",
    "\n",
    "while states_needed:\n",
    "    \n",
    "    best_stations  = None \n",
    "    states_covered = set()\n",
    "    \n",
    "    for station, states in stations.items():\n",
    "        \n",
    "        covered = states_needed & states  # = intersection (both have)\n",
    "        \n",
    "        if len(covered) > len(states_covered):\n",
    "            \n",
    "            best_station   = station \n",
    "            states_covered = covered\n",
    "    \n",
    "    states_needed = states_needed - states_covered \n",
    "    final_stations.add(best_station)"
   ]
  },
  {
   "cell_type": "code",
   "execution_count": 66,
   "metadata": {},
   "outputs": [
    {
     "data": {
      "text/plain": [
       "{'k_five', 'k_one', 'k_three', 'k_two'}"
      ]
     },
     "execution_count": 66,
     "metadata": {},
     "output_type": "execute_result"
    }
   ],
   "source": [
    "final_stations"
   ]
  },
  {
   "cell_type": "markdown",
   "metadata": {},
   "source": [
    "### Chapter 09"
   ]
  },
  {
   "cell_type": "markdown",
   "metadata": {},
   "source": [
    "Let's talk about *Dynamic Programming*."
   ]
  },
  {
   "cell_type": "markdown",
   "metadata": {},
   "source": [
    "It's a technique to solve problem \n",
    "- by **breaking it up** into several problems\n",
    "- and solving those **subproblems first**."
   ]
  },
  {
   "cell_type": "markdown",
   "metadata": {},
   "source": [
    "此章節計劃 于他處學習.<br>(Learn by the other tutorials, not showin here.)\n",
    "- Here's the tutorial: [Dynamic Programming Made Easy\n",
    "](https://nbviewer.jupyter.org/github/younlonglin/Top-Ten-Algorithms/blob/master/dp_made_easy.ipynb)"
   ]
  },
  {
   "cell_type": "markdown",
   "metadata": {},
   "source": [
    "### Chapter 10"
   ]
  },
  {
   "cell_type": "markdown",
   "metadata": {},
   "source": [
    "#### Let's talk about *KNN* and its applications!"
   ]
  },
  {
   "cell_type": "markdown",
   "metadata": {},
   "source": [
    "Well, KNN means <q>*k*-***nearest*** neighbors</q>.<br>\n",
    "( <small>the k could be any numbers: 2, 10, 10000 is totally fine</small> )\n",
    "\n",
    "\n",
    "Two rules before we begin\n",
    "- The features u choose should ***directly correlate*** to the thing you're trying to recommend\n",
    "- Features that don't have a bias. \n",
    "    - If you ask the users to only rate comedy movies,\n",
    "    - It doesn't (and cannot) tell you whether they like sci-fi movies.\n",
    "    \n",
    "Three terms to be explained\n",
    "1. KNN is used for *<u>classification</u>* and *<u>regression</u>* and involves *<u>looking at the k-nearest neighbors</u>*.\n",
    "    1. classification == categorization into a group \n",
    "    2. Regression == predicting a response (like a number)\n",
    "2. *<u>Features extraction</u>* means ***converting an item*** into a list of ***numbers that can be compared***.\n",
    "3. Picking good features is an crucial part."
   ]
  },
  {
   "cell_type": "markdown",
   "metadata": {},
   "source": [
    "[**knn-example**]<br>\n",
    "Suppose we're identify a thing (e.g. fruit)\n",
    "\n",
    "![ ](./img/knn_fruit_01.jpg)\n",
    "\n",
    "If it's just a single pic, how do we know what it is?\n",
    "- Well, our brain can *guess*, \n",
    "- which can also comparing it with other fruits that we've before"
   ]
  },
  {
   "cell_type": "markdown",
   "metadata": {},
   "source": [
    "Here's an example\n",
    "\n",
    "![ ](./img/knn_fruit_02_colrow.jpg)"
   ]
  },
  {
   "cell_type": "markdown",
   "metadata": {},
   "source": [
    "In normal cases, \n",
    "- the options of *what it is* is not that hard to guess (I mean *easy*).\n",
    "- Then we suppose it's either an orange or a grapefruit <small>(橙子)</small>. \n",
    "\n",
    "From the pic we can know\n",
    "- The neighbor: *oranges*, which are ***more*** than the *grapefruits*.\n",
    "- So (hmm), it's ***probably*** an *orange* instead a *grapefruit*."
   ]
  },
  {
   "cell_type": "markdown",
   "metadata": {},
   "source": [
    "[**knn-example**]<br>\n",
    "Take a real-world example \n",
    "\n",
    "How about a *movie recommendation* system :)\n",
    "\n",
    "0x03 (reverse)\n",
    "- A, B, C may all have similar taste in some movies.\n",
    "- So, if A watched a movie (***and he likes it***), we recommended it B (or C)."
   ]
  },
  {
   "cell_type": "markdown",
   "metadata": {},
   "source": [
    "0x02\n",
    "- From *0x03* we only got the *similarity*, but not ***how similar they are***.\n",
    "- Next, we extract the features of the *thing*.\n",
    "\n",
    "![ ](./img/knn_fruit_03_feature01.jpg)"
   ]
  },
  {
   "cell_type": "markdown",
   "metadata": {},
   "source": [
    "Then plot it \n",
    "\n",
    "![ ](./img/knn_fruit_03_feature02.jpg)\n",
    "\n",
    "It's easy to **see** that <q> A and B are *quite similar* </q>\n",
    "- Or u wanna calc it. \n",
    "- We already know the axises of A, B, C. \n",
    "    - So it's not hard to calculate all the coordinates. (ommited)"
   ]
  },
  {
   "cell_type": "markdown",
   "metadata": {},
   "source": [
    "0x01\n",
    "- From the previous example, <br>we found that we could **apply** this method **to movie recommendations** !!\n",
    "\n",
    "First we've got the **ratings**\n",
    "\n",
    "![ ](./img/knn_movie_04_step01.jpg)\n",
    "\n",
    "Let's recall the previous example\n",
    "\n",
    "![ ](./img/knn_movie_04_step02.jpg)\n",
    "\n",
    "Then we calculate it\n",
    "\n",
    "![ ](./img/knn_movie_04_step03.jpg)\n",
    "\n",
    "Cuz there's *five* numbers (sort-of-**dimentions**), we couldn't plot it directly\n",
    "- Even that, we still able to calculate it\n",
    "- If we calculate, we assume\n",
    "    - a<small>1</small> is PRIYANKA -- (user1)\n",
    "    - a<small>2</small> is JUSTIN   -- (user2)\n",
    "    \n",
    "The result is the **how-similar-they-are** (P and J)\n",
    "- Now we can say: <q> PRIYANKA and JUSTIN do have **similar taste**</q>. "
   ]
  },
  {
   "cell_type": "markdown",
   "metadata": {},
   "source": [
    "( The movie recommendation system ends here )\n",
    "\n",
    "[**knn-example**]<br>\n",
    "Let's talk about *regression*\n",
    "\n",
    "Suppose you run a bakery <small>(面包店)</small>\n",
    "- You *make fresh bread* every day.\n",
    "- You're trying to **predict how many loaves to make** for today.\n",
    "\n",
    "You've got a set of features\n",
    "\n",
    "| F | V | \n",
    "| :-- | :-- | \n",
    "| Weather | 1 ~ 5 (bad->great) | \n",
    "| Weekday / Holiday | 1 (either), 0 (other-case) | \n",
    "| Is-there-a-game-on | 1 (yes), 0 (no) |\n",
    "\n",
    "Then this is your stats in the past \n",
    "\n",
    "![ ](./img/knn_bread_05_feature.jpg)"
   ]
  },
  {
   "cell_type": "markdown",
   "metadata": {},
   "source": [
    "status of today\n",
    "- *Weekend* / *Good Weather* / *No-Game*\n",
    "\n",
    "Let's use KNN again\n",
    "- The *similar status* (day) is your neighbors. (You've got A, B, D, E) (<small>300, 225, 200, 150</small>)\n",
    "- The <u>average of the loaves</u> sold *on those days* is **218.75**. \n",
    "\n",
    "Then \n",
    "- you should probably make 219 loaves for today, at least.\n",
    "\n",
    "Of course, it's not that simple.\n",
    "- You might to make *more loaves* than what u said.\n",
    "- You might to make *more loaves* <u>specifically on Monday</u>.\n",
    "- And there's still more things you need to consider, choose yourself :)"
   ]
  },
  {
   "cell_type": "markdown",
   "metadata": {},
   "source": [
    "#### Intro to Machine Learning (sort of)"
   ]
  },
  {
   "cell_type": "markdown",
   "metadata": {},
   "source": [
    "OCR works (roughtly) like this\n",
    "1. take a lot of images\n",
    "2. extra its features \n",
    "3. got a new image -> extra its features \n",
    "4. see similar features with old images (nearest neighbors!)\n",
    "\n",
    "For number, \n",
    "\n",
    "![ ](./img/knn_ocrnum_05_feature.jpg)"
   ]
  },
  {
   "cell_type": "markdown",
   "metadata": {},
   "source": [
    "For the first step of OCR, \n",
    "- like <q>*go through images of numbers and extra features*</q>.\n",
    "- It was called ***training***.\n",
    "\n",
    "These got a lot more complicated in practice.\n",
    "- But it's important to understand <br>that ***even complex techs build on simple ideas, like KNN*** .\n",
    "- The ideas could also be used in *face recognition* or *speech recognition* etc."
   ]
  },
  {
   "cell_type": "markdown",
   "metadata": {},
   "source": [
    "***The End***"
   ]
  }
 ],
 "metadata": {
  "kernelspec": {
   "display_name": "Python 3",
   "language": "python",
   "name": "python3"
  },
  "language_info": {
   "codemirror_mode": {
    "name": "ipython",
    "version": 3
   },
   "file_extension": ".py",
   "mimetype": "text/x-python",
   "name": "python",
   "nbconvert_exporter": "python",
   "pygments_lexer": "ipython3",
   "version": "3.6.5"
  }
 },
 "nbformat": 4,
 "nbformat_minor": 2
}
