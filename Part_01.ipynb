{
 "cells": [
  {
   "cell_type": "markdown",
   "metadata": {},
   "source": [
    "> Tips: 可至 [python tutor](http://pythontutor.com/visualize.html#mode=edit) 察看执行流程"
   ]
  },
  {
   "cell_type": "markdown",
   "metadata": {},
   "source": [
    "### Chapter 01"
   ]
  },
  {
   "cell_type": "markdown",
   "metadata": {},
   "source": [
    "Binary Search\n",
    "- the list should be a ***sorted*** one. (e.g. a~z)\n",
    "- O(log<sub>2</sub>N) "
   ]
  },
  {
   "cell_type": "code",
   "execution_count": 6,
   "metadata": {},
   "outputs": [],
   "source": [
    "def bin_search(_list, item):\n",
    "    \n",
    "    # just indexes\n",
    "    idx_first = 0 \n",
    "    idx_last = len(_list) -1 \n",
    "    \n",
    "    while idx_first <= idx_last:\n",
    "        \n",
    "        # cut into two pieces (CORE)\n",
    "        split_middle = (idx_first + idx_last) // 2 \n",
    "\n",
    "        # value | index \n",
    "        isit_or_not = _list[split_middle]  # the Guess start in here \n",
    "\n",
    "        if isit_or_not == item:  # try-and-try all Test in Here\n",
    "            return split_middle  # got what-u-want? return the index \n",
    "\n",
    "        \n",
    "        # not found => Try here (tighten the boundary)\n",
    "        \n",
    "        if isit_or_not > item:\n",
    "            idx_last = split_middle - 1 \n",
    "        else:\n",
    "            idx_first = split_middle + 1 \n",
    "    \n",
    "    # nothin' found => return the (default) None \n",
    "    # already found => return OR try-and-try-then-return (code above)\n",
    "    return None "
   ]
  },
  {
   "cell_type": "code",
   "execution_count": 7,
   "metadata": {},
   "outputs": [
    {
     "data": {
      "text/plain": [
       "('index:', 4)"
      ]
     },
     "execution_count": 7,
     "metadata": {},
     "output_type": "execute_result"
    }
   ],
   "source": [
    "ml = [1, 3, 4, 6, 8, 9]\n",
    "\n",
    "'index:', bin_search(ml, 8)"
   ]
  },
  {
   "cell_type": "markdown",
   "metadata": {},
   "source": [
    "about big *O*\n",
    "- num of operations, NOT speed \n",
    "- it tells the *worst* case, NOT average or best-case scenario."
   ]
  },
  {
   "cell_type": "markdown",
   "metadata": {},
   "source": [
    "And ..\n",
    "- Algorithm speed isn’t measured in seconds, <br>but in growth of the ***number of operations***."
   ]
  },
  {
   "cell_type": "markdown",
   "metadata": {},
   "source": [
    "some common big O run times \n",
    "- O(log n)\n",
    "- O(n)\n",
    "- O(n * log n)\n",
    "- O(n<sup>2</sup>\n",
    "- O(n!)"
   ]
  },
  {
   "cell_type": "markdown",
   "metadata": {},
   "source": [
    "### Chapter 02"
   ]
  },
  {
   "cell_type": "markdown",
   "metadata": {},
   "source": [
    "arrray\n",
    "- continuous addresses in memory \n",
    "\n",
    "linked lists\n",
    "- one holds the next item's address (still, in memory)\n",
    "\n",
    "comparison \n",
    "\n",
    "| / | Array | List | \n",
    "| :-- | :-- | :-- | \n",
    "| Reading | **O(1)** | **O(n)** | \n",
    "| Inserton | O(n) | O(1) | \n",
    "| Deletion | O(n) | O(1) | \n",
    "\n",
    "in human words \n",
    "- *array* are good for ***random access***\n",
    "- *list* are good for ***insert*** and ***delete***.\n",
    "\n",
    "more about *array*\n",
    "- all elements should be the ***same type***.\n",
    "- each element are ***right next to each other***. "
   ]
  },
  {
   "cell_type": "markdown",
   "metadata": {},
   "source": [
    "Here comes the code!\n",
    "- Down below is the ***Selection Sort*** algorithm.\n",
    "- Its complexity is **O(N<sup>2</sup>)**"
   ]
  },
  {
   "cell_type": "code",
   "execution_count": 8,
   "metadata": {},
   "outputs": [],
   "source": [
    "def find_smallest(arr):\n",
    "    smallest = arr[0]  # item\n",
    "    smallest_idx = 0   # index \n",
    "    \n",
    "    for i in range(1, len(arr)):  # loop all to find the smallest \n",
    "        if arr[i] < smallest:     # cmp 'first' with every item (by idx)\n",
    "            smallest_idx = i      # not found => loop again (and agin)\n",
    "            smallest = arr[i]     # found => return itself / founded-one\n",
    "            \n",
    "    return smallest_idx           # loop lopp => return X\n",
    "\n",
    "def selection_sort(arr):                 # (00) the list came here first\n",
    "    new_arr = []\n",
    "    \n",
    "    for i in range(len(arr)):\n",
    "        smallest = find_smallest(arr)     # pass arg to another func \n",
    "        \n",
    "        new_arr.append(arr.pop(smallest)) # result passed in here\n",
    "        \n",
    "    return new_arr"
   ]
  },
  {
   "cell_type": "code",
   "execution_count": 9,
   "metadata": {},
   "outputs": [
    {
     "data": {
      "text/plain": [
       "[3, 4, 9, 10, 20]"
      ]
     },
     "execution_count": 9,
     "metadata": {},
     "output_type": "execute_result"
    }
   ],
   "source": [
    "selection_sort([4, 10, 9, 3, 20])"
   ]
  },
  {
   "cell_type": "markdown",
   "metadata": {},
   "source": [
    "### Chapter 03"
   ]
  },
  {
   "cell_type": "markdown",
   "metadata": {},
   "source": [
    "We gonna talk about ***Recursion***."
   ]
  },
  {
   "cell_type": "code",
   "execution_count": 34,
   "metadata": {},
   "outputs": [],
   "source": [
    "def countdown(i):\n",
    "    \"\"\" of course, we're gonna use recursion to accomplish this. \"\"\"\n",
    "    \n",
    "    print(i)  # It'll print unless the i is less than 0.\n",
    "    \n",
    "    if i <= 0:            # two cases: what u give is less than zero (or equal)\n",
    "        return            #            or it was subtracted to zero (recurrrsion!!)\n",
    "    \n",
    "    else:                 # Still greater than zero?\n",
    "        countdown(i - 1)  # => run the func again (especially print)"
   ]
  },
  {
   "cell_type": "code",
   "execution_count": 40,
   "metadata": {},
   "outputs": [
    {
     "name": "stdout",
     "output_type": "stream",
     "text": [
      "3\n",
      "2\n",
      "1\n",
      "0\n"
     ]
    }
   ],
   "source": [
    "countdown(3)"
   ]
  },
  {
   "cell_type": "code",
   "execution_count": 46,
   "metadata": {},
   "outputs": [],
   "source": [
    "def factorial(x):\n",
    "    \n",
    "    if x <= 0:    # hmm\n",
    "        return None\n",
    "    \n",
    "    if x == 1:    # two cases: what u passed is 'One' \n",
    "        return 1  #            or \n",
    "    else:                            # for 'return', it only executed once \n",
    "        return x * factorial(x - 1)  # then it go back "
   ]
  },
  {
   "cell_type": "code",
   "execution_count": 49,
   "metadata": {},
   "outputs": [
    {
     "data": {
      "text/plain": [
       "24"
      ]
     },
     "execution_count": 49,
     "metadata": {},
     "output_type": "execute_result"
    }
   ],
   "source": [
    "factorial(-2)\n",
    "factorial(0)\n",
    "\n",
    "factorial(4)"
   ]
  },
  {
   "cell_type": "markdown",
   "metadata": {},
   "source": [
    "Notice\n",
    "- It consumes a lot of memory. Write ***loop*** instead!\n",
    "- You *can* use [**tail recursion**](https://www.quora.com/What-is-tail-recursion-Why-is-it-so-bad), but Python **DO NOT** support it."
   ]
  },
  {
   "cell_type": "markdown",
   "metadata": {},
   "source": [
    "### Chapter 04"
   ]
  },
  {
   "cell_type": "markdown",
   "metadata": {},
   "source": [
    "Divide and Conquer!\n",
    "- a *recursive* technique about **Solving Problems**.\n",
    "- "
   ]
  }
 ],
 "metadata": {
  "kernelspec": {
   "display_name": "Python 3",
   "language": "python",
   "name": "python3"
  },
  "language_info": {
   "codemirror_mode": {
    "name": "ipython",
    "version": 3
   },
   "file_extension": ".py",
   "mimetype": "text/x-python",
   "name": "python",
   "nbconvert_exporter": "python",
   "pygments_lexer": "ipython3",
   "version": "3.6.5"
  }
 },
 "nbformat": 4,
 "nbformat_minor": 2
}
